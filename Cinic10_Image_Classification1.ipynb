{
 "cells": [
  {
   "cell_type": "markdown",
   "metadata": {
    "id": "x1JeUMcAbXBI"
   },
   "source": [
    "## Importing Libraries"
   ]
  },
  {
   "cell_type": "code",
   "execution_count": null,
   "metadata": {
    "executionInfo": {
     "elapsed": 2697,
     "status": "ok",
     "timestamp": 1657109166278,
     "user": {
      "displayName": "İsmail Avcu",
      "userId": "13985384516750871791"
     },
     "user_tz": -180
    },
    "id": "DnrpbmrLWRD9"
   },
   "outputs": [],
   "source": [
    "import pathlib\n",
    "import os\n",
    "import matplotlib.pyplot as plt\n",
    "import pandas as pd\n",
    "import numpy as np\n",
    "import tensorflow as tf\n",
    "from tensorflow.keras.models import Sequential\n",
    "from tensorflow.keras.layers import Dense, Conv2D, Flatten, Dropout, MaxPooling2D\n",
    "import time\n",
    "from tensorflow.keras.callbacks import TensorBoard\n",
    "from tensorflow import keras\n",
    "from tensorflow.keras.preprocessing.image import ImageDataGenerator "
   ]
  },
  {
   "cell_type": "code",
   "execution_count": null,
   "metadata": {
    "colab": {
     "base_uri": "https://localhost:8080/",
     "height": 36
    },
    "executionInfo": {
     "elapsed": 236,
     "status": "ok",
     "timestamp": 1657109168336,
     "user": {
      "displayName": "İsmail Avcu",
      "userId": "13985384516750871791"
     },
     "user_tz": -180
    },
    "id": "bj5_JZ2qWciK",
    "outputId": "4fc3e4d7-63ec-4721-f7b1-a90f3f244b89"
   },
   "outputs": [],
   "source": [
    "tf.__version__"
   ]
  },
  {
   "cell_type": "markdown",
   "metadata": {
    "id": "mgXLJ3PZbRnM"
   },
   "source": [
    "## Preparing Dataset"
   ]
  },
  {
   "cell_type": "code",
   "execution_count": null,
   "metadata": {
    "colab": {
     "base_uri": "https://localhost:8080/"
    },
    "executionInfo": {
     "elapsed": 20981,
     "status": "ok",
     "timestamp": 1657109191948,
     "user": {
      "displayName": "İsmail Avcu",
      "userId": "13985384516750871791"
     },
     "user_tz": -180
    },
    "id": "Q4bkKf30OqKK",
    "outputId": "f7cd029b-4eef-4d86-f09c-d6e19e5a5350"
   },
   "outputs": [],
   "source": [
    "from google.colab import drive\n",
    "drive.mount(\"/content/gdrive\")"
   ]
  },
  {
   "cell_type": "code",
   "execution_count": null,
   "metadata": {
    "id": "t9kkGi2mnekK"
   },
   "outputs": [],
   "source": [
    "#https://www.kaggle.com/mengcius/cinic10"
   ]
  },
  {
   "cell_type": "code",
   "execution_count": null,
   "metadata": {
    "colab": {
     "base_uri": "https://localhost:8080/"
    },
    "executionInfo": {
     "elapsed": 86283,
     "status": "ok",
     "timestamp": 1657110506778,
     "user": {
      "displayName": "İsmail Avcu",
      "userId": "13985384516750871791"
     },
     "user_tz": -180
    },
    "id": "a7r5ktVnaDvL",
    "outputId": "9a65ea22-7765-400a-9bd0-fe9c47de6ce0"
   },
   "outputs": [],
   "source": [
    "os.chdir('/content/gdrive/MyDrive/.../DL 1 - Image Classification')\n",
    "!unzip 'archive.zip'"
   ]
  },
  {
   "cell_type": "code",
   "execution_count": null,
   "metadata": {
    "executionInfo": {
     "elapsed": 244,
     "status": "ok",
     "timestamp": 1657110602764,
     "user": {
      "displayName": "İsmail Avcu",
      "userId": "13985384516750871791"
     },
     "user_tz": -180
    },
    "id": "bJqdonePnda_"
   },
   "outputs": [],
   "source": [
    "PATH_TRAIN = \"/content/gdrive/MyDrive/.../DL 1 - Image Classification/Dataset/train\"\n",
    "PATH_VALID = \"/content/gdrive/MyDrive/.../DL 1 - Image Classification/Dataset/valid\"\n",
    "PATH_TEST = \"/content/gdrive/MyDrive/.../DL 1 - Image Classification/Dataset/test\""
   ]
  },
  {
   "cell_type": "code",
   "execution_count": null,
   "metadata": {
    "executionInfo": {
     "elapsed": 231,
     "status": "ok",
     "timestamp": 1657110528094,
     "user": {
      "displayName": "İsmail Avcu",
      "userId": "13985384516750871791"
     },
     "user_tz": -180
    },
    "id": "JLJTn0yzRHTN"
   },
   "outputs": [],
   "source": [
    "image_size = (32, 32)\n",
    "batch_size = 32"
   ]
  },
  {
   "cell_type": "code",
   "execution_count": null,
   "metadata": {
    "colab": {
     "base_uri": "https://localhost:8080/"
    },
    "executionInfo": {
     "elapsed": 79008,
     "status": "ok",
     "timestamp": 1657110752498,
     "user": {
      "displayName": "İsmail Avcu",
      "userId": "13985384516750871791"
     },
     "user_tz": -180
    },
    "id": "PxybZnG_PC96",
    "outputId": "b94c141f-b20a-4ab6-f142-d4a60b1e0133"
   },
   "outputs": [],
   "source": [
    "train_ds = tf.keras.utils.image_dataset_from_directory(\n",
    "    PATH_TRAIN,\n",
    "    labels='inferred',\n",
    "    label_mode='categorical',\n",
    "    class_names=None,\n",
    "    color_mode='rgb',\n",
    "    batch_size=batch_size,\n",
    "    image_size=image_size,\n",
    "    shuffle=True,\n",
    "    seed=42,\n",
    "    validation_split=None,\n",
    "    subset=None,\n",
    "    interpolation=\"bilinear\",\n",
    "    follow_links=False,\n",
    "    crop_to_aspect_ratio=False,\n",
    ")"
   ]
  },
  {
   "cell_type": "code",
   "execution_count": null,
   "metadata": {
    "colab": {
     "base_uri": "https://localhost:8080/"
    },
    "executionInfo": {
     "elapsed": 122665,
     "status": "ok",
     "timestamp": 1657110882516,
     "user": {
      "displayName": "İsmail Avcu",
      "userId": "13985384516750871791"
     },
     "user_tz": -180
    },
    "id": "MRy8aebuRb68",
    "outputId": "7487846d-c43d-4ba4-ed1a-7dce3f6a842b"
   },
   "outputs": [],
   "source": [
    "valid_ds = tf.keras.utils.image_dataset_from_directory(\n",
    "    PATH_VALID,\n",
    "    labels='inferred',\n",
    "    label_mode='categorical',\n",
    "    class_names=None,\n",
    "    color_mode='rgb',\n",
    "    batch_size=batch_size,\n",
    "    image_size=image_size,\n",
    "    shuffle=True,\n",
    "    seed=88,\n",
    "    validation_split=None,\n",
    "    subset=None,\n",
    "    interpolation=\"bilinear\",\n",
    "    follow_links=False,\n",
    "    crop_to_aspect_ratio=False,\n",
    ")"
   ]
  },
  {
   "cell_type": "code",
   "execution_count": null,
   "metadata": {
    "colab": {
     "base_uri": "https://localhost:8080/"
    },
    "executionInfo": {
     "elapsed": 119299,
     "status": "ok",
     "timestamp": 1657111008014,
     "user": {
      "displayName": "İsmail Avcu",
      "userId": "13985384516750871791"
     },
     "user_tz": -180
    },
    "id": "aH-Fl52HRlRe",
    "outputId": "e48dd4f6-da55-4a55-e977-e4d44d2a6dad"
   },
   "outputs": [],
   "source": [
    "test_ds = tf.keras.utils.image_dataset_from_directory(\n",
    "    PATH_TEST,\n",
    "    labels='inferred',\n",
    "    label_mode='categorical',\n",
    "    class_names=None,\n",
    "    color_mode='rgb',\n",
    "    batch_size=batch_size,\n",
    "    image_size=image_size,\n",
    "    shuffle=True,\n",
    "    seed=44,\n",
    "    validation_split=None,\n",
    "    subset=None,\n",
    "    interpolation=\"bilinear\",\n",
    "    follow_links=False,\n",
    "    crop_to_aspect_ratio=False,\n",
    ")"
   ]
  },
  {
   "cell_type": "markdown",
   "metadata": {
    "id": "RKazgwzjbNhR"
   },
   "source": [
    "## Creating and Training Model"
   ]
  },
  {
   "cell_type": "code",
   "execution_count": null,
   "metadata": {
    "executionInfo": {
     "elapsed": 239,
     "status": "ok",
     "timestamp": 1657111045434,
     "user": {
      "displayName": "İsmail Avcu",
      "userId": "13985384516750871791"
     },
     "user_tz": -180
    },
    "id": "zhGawM5bb_0j"
   },
   "outputs": [],
   "source": [
    "image_height = image_width = 32\n",
    "number_of_color_channels = 3\n",
    "IMG_SHAPE = (image_width, image_height, number_of_color_channels)\n",
    "Epochs = 30"
   ]
  },
  {
   "cell_type": "code",
   "execution_count": null,
   "metadata": {
    "colab": {
     "base_uri": "https://localhost:8080/"
    },
    "executionInfo": {
     "elapsed": 652,
     "status": "ok",
     "timestamp": 1657111056877,
     "user": {
      "displayName": "İsmail Avcu",
      "userId": "13985384516750871791"
     },
     "user_tz": -180
    },
    "id": "CvuaV37UbHM5",
    "outputId": "aeb7c197-9eac-4422-e813-db658a7dc168"
   },
   "outputs": [],
   "source": [
    "xtime = time.time()\n",
    "\n",
    "#save model accuracy history graph by using tensorboard\n",
    "tensorboard = TensorBoard(log_dir=f\"gdrive/My Drive/.../DL 1 - Image Classification/Callbacks/tensorboard time={xtime}\")\n",
    "\n",
    "classifier_model = Sequential([\n",
    "    keras.Input(IMG_SHAPE),\n",
    "    tf.keras.layers.Rescaling(1./255)\n",
    "])\n",
    "\n",
    "classifier_model.add(Conv2D(64, (3,3), activation=\"relu\"))\n",
    "classifier_model.add(MaxPooling2D(pool_size=(2, 2)))\n",
    "\n",
    "classifier_model.add(Conv2D(64, (3,3), activation=\"relu\"))\n",
    "classifier_model.add(MaxPooling2D(pool_size=(2, 2)))\n",
    "\n",
    "classifier_model.add(Conv2D(64, (3,3), activation=\"relu\"))\n",
    "\n",
    "classifier_model.add(Flatten())\n",
    "\n",
    "classifier_model.add(Dense(128, activation=\"relu\"))\n",
    "classifier_model.add(Dense(64, activation=\"relu\"))\n",
    "classifier_model.add(Dense(10, activation=\"softmax\")) # 10 classes\n",
    "\n",
    "\n",
    "classifier_model.compile(loss=\"categorical_crossentropy\",\n",
    "                                            optimizer=\"Adam\",\n",
    "                                            metrics=[\"accuracy\"])\n",
    "\n",
    "classifier_model.summary()"
   ]
  },
  {
   "cell_type": "code",
   "execution_count": null,
   "metadata": {
    "colab": {
     "base_uri": "https://localhost:8080/",
     "height": 345
    },
    "executionInfo": {
     "elapsed": 49410,
     "status": "error",
     "timestamp": 1657111110374,
     "user": {
      "displayName": "İsmail Avcu",
      "userId": "13985384516750871791"
     },
     "user_tz": -180
    },
    "id": "S9X2l7WFeaJZ",
    "outputId": "ca173a11-8829-4661-f5c0-f1c805dff420"
   },
   "outputs": [],
   "source": [
    "classifier_model.fit(train_ds, epochs=Epochs, validation_data=valid_ds, callbacks=[tensorboard])"
   ]
  }
 ],
 "metadata": {
  "accelerator": "GPU",
  "colab": {
   "authorship_tag": "ABX9TyMUxv+xQsUsko2fz/0UcL6P",
   "name": "Classification1.ipynb adlı dosyanın kopyası",
   "provenance": []
  },
  "gpuClass": "standard",
  "kernelspec": {
   "display_name": "Python 3 (ipykernel)",
   "language": "python",
   "name": "python3"
  },
  "language_info": {
   "codemirror_mode": {
    "name": "ipython",
    "version": 3
   },
   "file_extension": ".py",
   "mimetype": "text/x-python",
   "name": "python",
   "nbconvert_exporter": "python",
   "pygments_lexer": "ipython3",
   "version": "3.9.12"
  }
 },
 "nbformat": 4,
 "nbformat_minor": 1
}
